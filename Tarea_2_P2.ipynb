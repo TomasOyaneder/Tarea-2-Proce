{
  "nbformat": 4,
  "nbformat_minor": 0,
  "metadata": {
    "colab": {
      "provenance": []
    },
    "kernelspec": {
      "name": "python3",
      "display_name": "Python 3"
    },
    "language_info": {
      "name": "python"
    }
  },
  "cells": [
    {
      "cell_type": "code",
      "execution_count": 2,
      "metadata": {
        "colab": {
          "base_uri": "https://localhost:8080/"
        },
        "id": "qrkNG12uELZ_",
        "outputId": "3bf6e6a6-b194-45e9-8777-8d9fed3c0d58"
      },
      "outputs": [
        {
          "output_type": "stream",
          "name": "stdout",
          "text": [
            "Collecting pyspark\n",
            "  Downloading pyspark-3.4.1.tar.gz (310.8 MB)\n",
            "\u001b[2K     \u001b[90m━━━━━━━━━━━━━━━━━━━━━━━━━━━━━━━━━━━━━━━\u001b[0m \u001b[32m310.8/310.8 MB\u001b[0m \u001b[31m5.4 MB/s\u001b[0m eta \u001b[36m0:00:00\u001b[0m\n",
            "\u001b[?25h  Preparing metadata (setup.py) ... \u001b[?25l\u001b[?25hdone\n",
            "Requirement already satisfied: py4j==0.10.9.7 in /usr/local/lib/python3.10/dist-packages (from pyspark) (0.10.9.7)\n",
            "Building wheels for collected packages: pyspark\n",
            "  Building wheel for pyspark (setup.py) ... \u001b[?25l\u001b[?25hdone\n",
            "  Created wheel for pyspark: filename=pyspark-3.4.1-py2.py3-none-any.whl size=311285398 sha256=9df52e743361359703f57d1b17e76e7d95f3d9bd2fddd5e0c7d20dfa47c27474\n",
            "  Stored in directory: /root/.cache/pip/wheels/0d/77/a3/ff2f74cc9ab41f8f594dabf0579c2a7c6de920d584206e0834\n",
            "Successfully built pyspark\n",
            "Installing collected packages: pyspark\n",
            "Successfully installed pyspark-3.4.1\n"
          ]
        }
      ],
      "source": [
        "!pip install pyspark"
      ]
    },
    {
      "cell_type": "code",
      "source": [
        "from pyspark.sql import SparkSession\n",
        "\n",
        "spark = SparkSession.builder.getOrCreate()\n",
        "\n",
        "sc = spark.sparkContext\n",
        "sc"
      ],
      "metadata": {
        "colab": {
          "base_uri": "https://localhost:8080/",
          "height": 196
        },
        "id": "AmZG__f4ET3M",
        "outputId": "1632e78c-0864-46c7-b69a-cf6dcbb5a2ef"
      },
      "execution_count": 3,
      "outputs": [
        {
          "output_type": "execute_result",
          "data": {
            "text/plain": [
              "<SparkContext master=local[*] appName=pyspark-shell>"
            ],
            "text/html": [
              "\n",
              "        <div>\n",
              "            <p><b>SparkContext</b></p>\n",
              "\n",
              "            <p><a href=\"http://44ff568b1d5e:4040\">Spark UI</a></p>\n",
              "\n",
              "            <dl>\n",
              "              <dt>Version</dt>\n",
              "                <dd><code>v3.4.1</code></dd>\n",
              "              <dt>Master</dt>\n",
              "                <dd><code>local[*]</code></dd>\n",
              "              <dt>AppName</dt>\n",
              "                <dd><code>pyspark-shell</code></dd>\n",
              "            </dl>\n",
              "        </div>\n",
              "        "
            ]
          },
          "metadata": {},
          "execution_count": 3
        }
      ]
    },
    {
      "cell_type": "markdown",
      "source": [
        "## Problema 2:"
      ],
      "metadata": {
        "id": "-3HsXEv4EUCm"
      }
    },
    {
      "cell_type": "code",
      "source": [
        "# Definimos el nodo fuente y las aristas\n",
        "source_node = 1\n",
        "edges = [(1, 2, 10), (2, 3, 3), (2, 4, 24), (3, 2, 1)]\n",
        "\n",
        "# RDD de las aristas\n",
        "edges_rdd = sc.parallelize(edges)\n",
        "\n",
        "# Obtenemos los nodos únicos del RDD de aristas\n",
        "nodes = edges_rdd.flatMap(lambda edge: [edge[0], edge[1]]).distinct()"
      ],
      "metadata": {
        "id": "tn9jkdB5EXcU"
      },
      "execution_count": 4,
      "outputs": []
    },
    {
      "cell_type": "code",
      "source": [
        "nodes.collect()"
      ],
      "metadata": {
        "colab": {
          "base_uri": "https://localhost:8080/"
        },
        "id": "HC8__-RiEZju",
        "outputId": "364bab27-b3c1-428f-a0d5-4291ea5e9f38"
      },
      "execution_count": 5,
      "outputs": [
        {
          "output_type": "execute_result",
          "data": {
            "text/plain": [
              "[2, 4, 1, 3]"
            ]
          },
          "metadata": {},
          "execution_count": 5
        }
      ]
    },
    {
      "cell_type": "code",
      "source": [
        "# Función que inicializa el costo del nodo inicial y el resto de nodos\n",
        "def initialize(node):\n",
        "  if node == source_node:\n",
        "    return (node, 0)\n",
        "  else:\n",
        "    return (node, float('inf'))"
      ],
      "metadata": {
        "id": "5NAiVkL6Eaut"
      },
      "execution_count": 6,
      "outputs": []
    },
    {
      "cell_type": "code",
      "source": [
        "# Función que genera mensajes\n",
        "def generate_messages_2(edge):\n",
        "  src, dest, cost = edge\n",
        "\n",
        "  for node in current_costs_dict:\n",
        "    if node == src:\n",
        "      return (dest, current_costs_dict[src] + cost)\n",
        "\n",
        "  return (source_node, 0)\n",
        "  # return [(dest, current_costs_dict[src] + cost) for node in current_costs_dict if node == src]\n",
        "\n",
        "# Función que actualiza los costos\n",
        "def update_costs(node, costs):\n",
        "  current_cost = float('inf')\n",
        "  for cost in costs:\n",
        "    if cost < current_cost:\n",
        "      current_cost = cost\n",
        "  return (node, current_cost)"
      ],
      "metadata": {
        "id": "Z2_sAo-LEb6g"
      },
      "execution_count": 7,
      "outputs": []
    },
    {
      "cell_type": "code",
      "source": [
        "current_costs = nodes.map(initialize)\n",
        "current_costs.collect()"
      ],
      "metadata": {
        "colab": {
          "base_uri": "https://localhost:8080/"
        },
        "id": "NL1yFEmYEc9J",
        "outputId": "a7ede79b-8ded-4b66-962e-fa4ab61dd3c9"
      },
      "execution_count": 8,
      "outputs": [
        {
          "output_type": "execute_result",
          "data": {
            "text/plain": [
              "[(2, inf), (4, inf), (1, 0), (3, inf)]"
            ]
          },
          "metadata": {},
          "execution_count": 8
        }
      ]
    },
    {
      "cell_type": "code",
      "source": [
        "current_costs_dict = dict(current_costs.collect())\n",
        "current_costs_dict"
      ],
      "metadata": {
        "colab": {
          "base_uri": "https://localhost:8080/"
        },
        "id": "bLQBmq3IEeJH",
        "outputId": "5827bb3a-c92c-4d41-c35e-c5d8f2a52638"
      },
      "execution_count": 9,
      "outputs": [
        {
          "output_type": "execute_result",
          "data": {
            "text/plain": [
              "{2: inf, 4: inf, 1: 0, 3: inf}"
            ]
          },
          "metadata": {},
          "execution_count": 9
        }
      ]
    },
    {
      "cell_type": "markdown",
      "source": [
        "#### En el siguiente \"while\" loop es donde iteramos el procedimiento anterior hasta que pare de cambiar o hasta que llegue al maximo de iteraciones n."
      ],
      "metadata": {
        "id": "-beJHAMAEf3Z"
      }
    },
    {
      "cell_type": "code",
      "source": [
        "max_iterations = 10\n",
        "convergence = 2\n",
        "actual_iter = 0\n",
        "no_change = 0\n",
        "\n",
        "while no_change < convergence and actual_iter < max_iterations:\n",
        "  previous_costs = current_costs.collectAsMap()\n",
        "  messages = edges_rdd.map(lambda x: generate_messages_2(x))\n",
        "  current_costs = current_costs.union(messages).reduceByKey(lambda x, y: min(x, y))\n",
        "  current_costs_dict = dict(current_costs.collect())\n",
        "\n",
        "  if previous_costs == current_costs.collectAsMap():\n",
        "    no_change += 1\n",
        "  else:\n",
        "    no_change = 0\n",
        "\n",
        "  actual_iter += 1"
      ],
      "metadata": {
        "id": "G4ZuAJ5mEgjJ"
      },
      "execution_count": 10,
      "outputs": []
    },
    {
      "cell_type": "code",
      "source": [
        "current_costs.collect()"
      ],
      "metadata": {
        "colab": {
          "base_uri": "https://localhost:8080/"
        },
        "id": "hp481ATbEjBV",
        "outputId": "35b1d700-150b-47c6-fe09-36171c0af532"
      },
      "execution_count": 11,
      "outputs": [
        {
          "output_type": "execute_result",
          "data": {
            "text/plain": [
              "[(1, 0), (2, 10), (3, 13), (4, 34)]"
            ]
          },
          "metadata": {},
          "execution_count": 11
        }
      ]
    },
    {
      "cell_type": "markdown",
      "source": [
        "### Ahora probabermos si nuestro algoritmo es escalable por lo que usaremos el grafo \"cora\" como ejemplo que usamos en el problema 1:"
      ],
      "metadata": {
        "id": "lrLLpHyIElp6"
      }
    },
    {
      "cell_type": "code",
      "source": [
        "import pandas as pd\n",
        "import networkx as nx\n",
        "from random import randint"
      ],
      "metadata": {
        "id": "rvS8TSi9Fewt"
      },
      "execution_count": 14,
      "outputs": []
    },
    {
      "cell_type": "code",
      "source": [
        "# IMPORTANTE: Si el archivo cora.cites esta tiene otra ruta, hay que cambiar la variable RUTA\n",
        "RUTA = 'cora.cites'\n",
        "citas = pd.read_csv(RUTA,sep=\"\\t\",\n",
        "    header=None,\n",
        "    names=[\"target\", \"source\"])\n",
        "G = nx.from_pandas_edgelist(citas, source=\"source\", target=\"target\",create_using=nx.DiGraph())"
      ],
      "metadata": {
        "id": "kIeJDj9CFnpO"
      },
      "execution_count": null,
      "outputs": []
    },
    {
      "cell_type": "code",
      "source": [
        "edges = list(G.edges)\n",
        "# Como el archivo cora no venia con costos, le dimos costos random entre 1 y 15.\n",
        "# Cualquier cosa se puede revisar la lista costs\n",
        "costs = [randint(1, 15) for i in range(len(edges))]\n",
        "edges_costo = []\n",
        "for i in range(len(edges)):\n",
        "  edges_costo.append((edges[i][0], edges[i][1], costs[i]))"
      ],
      "metadata": {
        "id": "K-xGPjHYEoXO"
      },
      "execution_count": 17,
      "outputs": []
    },
    {
      "cell_type": "code",
      "source": [
        "source_node = 35\n",
        "edges_rdd = sc.parallelize(edges_costo)\n",
        "nodes = edges_rdd.flatMap(lambda edge: [edge[0], edge[1]]).distinct()"
      ],
      "metadata": {
        "id": "8yBHqv2YEpaw"
      },
      "execution_count": 18,
      "outputs": []
    },
    {
      "cell_type": "code",
      "source": [
        "current_costs = nodes.map(initialize)"
      ],
      "metadata": {
        "id": "Fh_d9e7UEqs6"
      },
      "execution_count": 19,
      "outputs": []
    },
    {
      "cell_type": "code",
      "source": [
        "current_costs_dict = dict(current_costs.collect())"
      ],
      "metadata": {
        "id": "vTozjz5pEr4v"
      },
      "execution_count": 20,
      "outputs": []
    },
    {
      "cell_type": "code",
      "source": [
        "def SSSP(max_iterations, convergence, current_costs):\n",
        "  no_change = 0\n",
        "  actual_iter = 0\n",
        "  while no_change < convergence and actual_iter < max_iterations:\n",
        "    previous_costs = current_costs.collectAsMap()\n",
        "    messages = edges_rdd.map(lambda x: generate_messages_2(x))\n",
        "    current_costs = current_costs.union(messages).reduceByKey(lambda x, y: min(x, y))\n",
        "    current_costs_dict = dict(current_costs.collect())\n",
        "\n",
        "    if previous_costs == current_costs.collectAsMap():\n",
        "      no_change += 1\n",
        "    else:\n",
        "      no_change = 0\n",
        "\n",
        "    actual_iter += 1\n",
        "  print(f'El algoritmo convergio en {actual_iter} iteraciones')\n",
        "  return current_costs"
      ],
      "metadata": {
        "id": "mMq4s8mjEtMt"
      },
      "execution_count": 21,
      "outputs": []
    },
    {
      "cell_type": "code",
      "source": [
        "costos_finales = SSSP(15, 2, current_costs)"
      ],
      "metadata": {
        "colab": {
          "base_uri": "https://localhost:8080/"
        },
        "id": "3CSDAXpEEvi1",
        "outputId": "e3b089ad-d30d-4a62-9403-f15348e188b5"
      },
      "execution_count": 22,
      "outputs": [
        {
          "output_type": "stream",
          "name": "stdout",
          "text": [
            "El algoritmo convergio en 3 iteraciones\n"
          ]
        }
      ]
    },
    {
      "cell_type": "markdown",
      "source": [
        "#### Con el ejemplo del grafo de \"cora\" puede que el nodo inicial no este conectado a todos los nodos por lo que solo entrega los costos de los nodos a los que se pueden llegar. Por esto mismo los filtramos:"
      ],
      "metadata": {
        "id": "J121u4AAEznl"
      }
    },
    {
      "cell_type": "code",
      "source": [
        "final = costos_finales.filter(lambda x: x[1] != float('inf'))\n",
        "final.collect()"
      ],
      "metadata": {
        "colab": {
          "base_uri": "https://localhost:8080/"
        },
        "id": "2y8RElU7Exiv",
        "outputId": "502f102a-ab77-4e1c-b68d-9b59c0aaa0d0"
      },
      "execution_count": 23,
      "outputs": [
        {
          "output_type": "execute_result",
          "data": {
            "text/plain": [
              "[(82920, 5), (210872, 2), (35, 0), (210871, 7)]"
            ]
          },
          "metadata": {},
          "execution_count": 23
        }
      ]
    },
    {
      "cell_type": "markdown",
      "source": [
        "#### Para poder probar el codigo con otros grafos hicimos una funcion para crear grafos que esten bien conectados."
      ],
      "metadata": {
        "id": "aTRaYr5EE2wp"
      }
    },
    {
      "cell_type": "code",
      "source": [
        "import random\n",
        "\n",
        "def generate_edges(num_nodes, cost_range):\n",
        "    edges = []\n",
        "    for i in range(num_nodes):\n",
        "        for j in range(num_nodes):\n",
        "            if i != j:\n",
        "                cost = random.randint(cost_range[0], cost_range[1])\n",
        "                edges.append((i+1, j+1, cost))\n",
        "    return edges\n",
        "\n",
        "# Ejemplo de uso\n",
        "num_nodes = 20\n",
        "cost_range = (1, 10)\n",
        "edges = generate_edges(num_nodes, cost_range)"
      ],
      "metadata": {
        "id": "PKlHDLr9E3Qp"
      },
      "execution_count": 24,
      "outputs": []
    },
    {
      "cell_type": "code",
      "source": [
        "source_node = 3\n",
        "edges_rdd = sc.parallelize(edges)\n",
        "nodes = edges_rdd.flatMap(lambda edge: [edge[0], edge[1]]).distinct()\n",
        "current_costs = nodes.map(initialize)\n",
        "current_costs_dict = dict(current_costs.collect())"
      ],
      "metadata": {
        "id": "5BDPsBE2E5DY"
      },
      "execution_count": 25,
      "outputs": []
    },
    {
      "cell_type": "code",
      "source": [
        "costos_finales = SSSP(15, 2, current_costs)"
      ],
      "metadata": {
        "colab": {
          "base_uri": "https://localhost:8080/"
        },
        "id": "6GQz3TITE6MS",
        "outputId": "fcbd68f7-3ded-4201-ad66-9a94aa3f5842"
      },
      "execution_count": 26,
      "outputs": [
        {
          "output_type": "stream",
          "name": "stdout",
          "text": [
            "El algoritmo convergio en 3 iteraciones\n"
          ]
        }
      ]
    },
    {
      "cell_type": "code",
      "source": [
        "print(\"Los costos finales son:\\n\")\n",
        "costos_finales.collect()"
      ],
      "metadata": {
        "colab": {
          "base_uri": "https://localhost:8080/"
        },
        "id": "fCA0meHzE7re",
        "outputId": "615049d7-cca6-4dcb-d1f5-19ebefde5a72"
      },
      "execution_count": 27,
      "outputs": [
        {
          "output_type": "stream",
          "name": "stdout",
          "text": [
            "Los costos finales son:\n",
            "\n"
          ]
        },
        {
          "output_type": "execute_result",
          "data": {
            "text/plain": [
              "[(8, 6),\n",
              " (16, 4),\n",
              " (1, 10),\n",
              " (9, 6),\n",
              " (17, 7),\n",
              " (18, 6),\n",
              " (2, 7),\n",
              " (10, 3),\n",
              " (19, 7),\n",
              " (3, 0),\n",
              " (11, 5),\n",
              " (12, 10),\n",
              " (20, 8),\n",
              " (4, 3),\n",
              " (13, 10),\n",
              " (5, 1),\n",
              " (6, 2),\n",
              " (14, 3),\n",
              " (7, 4),\n",
              " (15, 2)]"
            ]
          },
          "metadata": {},
          "execution_count": 27
        }
      ]
    }
  ]
}