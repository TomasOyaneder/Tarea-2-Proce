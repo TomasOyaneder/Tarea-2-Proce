{
  "nbformat": 4,
  "nbformat_minor": 0,
  "metadata": {
    "colab": {
      "provenance": []
    },
    "kernelspec": {
      "name": "python3",
      "display_name": "Python 3"
    },
    "language_info": {
      "name": "python"
    }
  },
  "cells": [
    {
      "cell_type": "code",
      "source": [
        "!pip install pyspark"
      ],
      "metadata": {
        "colab": {
          "base_uri": "https://localhost:8080/"
        },
        "id": "6gIASSB1jrg8",
        "outputId": "74880c5d-6eeb-459c-804f-1a7fad308f8c"
      },
      "execution_count": 65,
      "outputs": [
        {
          "output_type": "stream",
          "name": "stdout",
          "text": [
            "Requirement already satisfied: pyspark in /usr/local/lib/python3.10/dist-packages (3.4.1)\n",
            "Requirement already satisfied: py4j==0.10.9.7 in /usr/local/lib/python3.10/dist-packages (from pyspark) (0.10.9.7)\n"
          ]
        }
      ]
    },
    {
      "cell_type": "code",
      "execution_count": 66,
      "metadata": {
        "colab": {
          "base_uri": "https://localhost:8080/",
          "height": 196
        },
        "id": "H0z58R5ndSNL",
        "outputId": "e298cf37-8cde-477e-9be6-9f8c62d09436"
      },
      "outputs": [
        {
          "output_type": "execute_result",
          "data": {
            "text/plain": [
              "<SparkContext master=local[*] appName=pyspark-shell>"
            ],
            "text/html": [
              "\n",
              "        <div>\n",
              "            <p><b>SparkContext</b></p>\n",
              "\n",
              "            <p><a href=\"http://246ae2090a6e:4040\">Spark UI</a></p>\n",
              "\n",
              "            <dl>\n",
              "              <dt>Version</dt>\n",
              "                <dd><code>v3.4.1</code></dd>\n",
              "              <dt>Master</dt>\n",
              "                <dd><code>local[*]</code></dd>\n",
              "              <dt>AppName</dt>\n",
              "                <dd><code>pyspark-shell</code></dd>\n",
              "            </dl>\n",
              "        </div>\n",
              "        "
            ]
          },
          "metadata": {},
          "execution_count": 66
        }
      ],
      "source": [
        "from pyspark.sql import SparkSession\n",
        "\n",
        "spark = SparkSession.builder.getOrCreate()\n",
        "\n",
        "sc = spark.sparkContext\n",
        "sc"
      ]
    },
    {
      "cell_type": "markdown",
      "source": [
        "[link text](https://)### 1) Problema 1:"
      ],
      "metadata": {
        "id": "2UsNFUaLEho6"
      }
    },
    {
      "cell_type": "markdown",
      "source": [
        "#### Para facilitarnos el trabajo de los nodos en RDD, definimos nuestro grafo como una lista de tuplas donde cada tupla es un nodo con una lista de los nodos a los que se conecta."
      ],
      "metadata": {
        "id": "uI6-U3aOSiXy"
      }
    },
    {
      "cell_type": "code",
      "source": [
        "# Lista de tuplas (nodo, vecinos)\n",
        "lista_tuplas = [(1, [2]), (2, [3, 4]), (3, [2]), (4, [])]\n",
        "#lista_tuplas = [(1, [2]), (2, [3]), (3, [4]), (4, [5]), (5, [6]), (6, [1, 3])]\n",
        "\n",
        "# Creamos un RDD con las tuplas (nodo, vecinos)\n",
        "graph = sc.parallelize(lista_tuplas)\n",
        "\n",
        "# Cantidad de nodos\n",
        "cant_nodos = len(lista_tuplas)\n",
        "\n",
        "# Valor inicial del page rank\n",
        "initial_value = 1 / cant_nodos\n",
        "\n",
        "# Inicializamos el page rank de cada nodo\n",
        "nodes = graph.keys().distinct()\n",
        "ranks = nodes.map(lambda node: (node, initial_value))\n",
        "\n",
        "print(ranks.collect())"
      ],
      "metadata": {
        "colab": {
          "base_uri": "https://localhost:8080/"
        },
        "id": "Z3jKb-rmjnnJ",
        "outputId": "b6f57757-2829-4c70-ea25-3fb98f57c88b"
      },
      "execution_count": 67,
      "outputs": [
        {
          "output_type": "stream",
          "name": "stdout",
          "text": [
            "[(2, 0.25), (4, 0.25), (1, 0.25), (3, 0.25)]\n"
          ]
        }
      ]
    },
    {
      "cell_type": "code",
      "source": [
        "# Función que genera los mensajes a partir de un nodo y su PageRank actual\n",
        "def generate_messages(node, rank):\n",
        "    num_neighbors = len(graph_dict[node])  # Obtiene el número de vecinos\n",
        "    if num_neighbors == 0:\n",
        "        return []\n",
        "    message_rank = rank / num_neighbors\n",
        "    return [(neighbor, message_rank) for neighbor in graph_dict[node]]\n",
        "\n",
        "# Se generan los mensajes y se crea un diccionario para poder trabajar los mensajes\n",
        "messages = ranks.flatMap(lambda x: generate_messages(x[0], x[1]))\n",
        "graph_dict = dict(graph.collect())\n",
        "messages.collect()"
      ],
      "metadata": {
        "id": "RV799gZz2tkr",
        "colab": {
          "base_uri": "https://localhost:8080/"
        },
        "outputId": "c7228d9f-e6f5-4855-8af1-7bfc232b4dd7"
      },
      "execution_count": 68,
      "outputs": [
        {
          "output_type": "execute_result",
          "data": {
            "text/plain": [
              "[(3, 0.125), (4, 0.125), (2, 0.25), (2, 0.25)]"
            ]
          },
          "metadata": {},
          "execution_count": 68
        }
      ]
    },
    {
      "cell_type": "code",
      "source": [
        "# Función que actualiza el valor del Page Rank\n",
        "def update_rank(node, ranks):\n",
        "    damping_factor = 0.85\n",
        "    new_rank = damping_factor * ranks + (1 - damping_factor) / cant_nodos\n",
        "    return (node, new_rank)\n",
        "\n",
        "# Se actualiza los PageRanks utilizando los mensajes recibidos\n",
        "new_ranks = messages.reduceByKey(lambda x, y: x + y).map(lambda x: update_rank(x[0], x[1]))\n",
        "new_ranks.collect()"
      ],
      "metadata": {
        "colab": {
          "base_uri": "https://localhost:8080/"
        },
        "id": "tOxxmSBgBcqj",
        "outputId": "903b826c-ec70-4d23-f9a0-30f1ddfd4ffe"
      },
      "execution_count": 69,
      "outputs": [
        {
          "output_type": "execute_result",
          "data": {
            "text/plain": [
              "[(4, 0.14375), (2, 0.4625), (3, 0.14375)]"
            ]
          },
          "metadata": {},
          "execution_count": 69
        }
      ]
    },
    {
      "cell_type": "markdown",
      "source": [
        "#### Ahora se ejecuta un \"for\" loop para repetir este proceso n veces."
      ],
      "metadata": {
        "id": "pNAayq3ozhZf"
      }
    },
    {
      "cell_type": "code",
      "source": [
        "max_iterations = 10\n",
        "epsilon = 0.001\n",
        "cant_iteraciones = 0\n",
        "for iteration in range(max_iterations):\n",
        "\n",
        "    messages = ranks.flatMap(lambda x: generate_messages(x[0], x[1]))\n",
        "    collected_messages = messages.collect()\n",
        "    collected_messages.append((1, 0))\n",
        "    messages = sc.parallelize(collected_messages)\n",
        "\n",
        "    new_ranks = messages.reduceByKey(lambda x, y: x + y).map(lambda x: update_rank(x[0], x[1]))\n",
        "\n",
        "    # Calculamos la diferencia entre los PageRanks actuales y anteriores\n",
        "    rank_diff = ranks.join(new_ranks).map(lambda x: abs(x[1][0] - x[1][1])).sum()\n",
        "\n",
        "    # Actualizamos los PageRanks para la siguiente iteración\n",
        "    ranks = new_ranks\n",
        "\n",
        "    # Verifica la condición de terminación\n",
        "    cant_iteraciones+=1\n",
        "    if rank_diff < epsilon:\n",
        "        break"
      ],
      "metadata": {
        "id": "H-qZYRvNB57d"
      },
      "execution_count": 70,
      "outputs": []
    },
    {
      "cell_type": "code",
      "source": [
        "ranks.collect()"
      ],
      "metadata": {
        "colab": {
          "base_uri": "https://localhost:8080/"
        },
        "id": "S3isEftID4nB",
        "outputId": "53b3643a-73a4-42a3-a322-1ea365e9d1e7"
      },
      "execution_count": 71,
      "outputs": [
        {
          "output_type": "execute_result",
          "data": {
            "text/plain": [
              "[(4, 0.10706817498735734),\n",
              " (2, 0.15907557964792862),\n",
              " (3, 0.10706817498735734),\n",
              " (1, 0.037500000000000006)]"
            ]
          },
          "metadata": {},
          "execution_count": 71
        }
      ]
    },
    {
      "cell_type": "code",
      "source": [
        "print(f'Se llego al resultado en {cant_iteraciones} iteraciones')"
      ],
      "metadata": {
        "colab": {
          "base_uri": "https://localhost:8080/"
        },
        "id": "J7a-xZ7tCRqF",
        "outputId": "8bf9ab63-d573-4848-e13c-71387176be1b"
      },
      "execution_count": 72,
      "outputs": [
        {
          "output_type": "stream",
          "name": "stdout",
          "text": [
            "Se llego al resultado en 10 iteraciones\n"
          ]
        }
      ]
    },
    {
      "cell_type": "markdown",
      "source": [
        "### Para probar que nuestro codigo es escalable, probaremos el el algoritmo para el grafo de \"cora\" de la actividad 12."
      ],
      "metadata": {
        "id": "u5d2hwYHSJ2k"
      }
    },
    {
      "cell_type": "code",
      "source": [
        "!pip install networkx"
      ],
      "metadata": {
        "colab": {
          "base_uri": "https://localhost:8080/"
        },
        "id": "CAfhB9YCKyvU",
        "outputId": "e53e7629-ef71-46aa-ca03-ffc4b9aa00cf"
      },
      "execution_count": 73,
      "outputs": [
        {
          "output_type": "stream",
          "name": "stdout",
          "text": [
            "Requirement already satisfied: networkx in /usr/local/lib/python3.10/dist-packages (3.1)\n"
          ]
        }
      ]
    },
    {
      "cell_type": "code",
      "source": [
        "import pandas as pd\n",
        "import networkx as nx"
      ],
      "metadata": {
        "id": "S4_AP-swKemV"
      },
      "execution_count": 74,
      "outputs": []
    },
    {
      "cell_type": "code",
      "source": [
        "# IMPORTANTE: Si el archivo cora.cites esta tiene otra ruta, hay que cambiar la variable RUTA\n",
        "RUTA = 'cora.cites'\n",
        "citas = pd.read_csv(RUTA,sep=\"\\t\",\n",
        "    header=None,\n",
        "    names=[\"target\", \"source\"])\n",
        "G = nx.from_pandas_edgelist(citas, source=\"source\", target=\"target\",create_using=nx.DiGraph())"
      ],
      "metadata": {
        "id": "H_vFa94UKes2"
      },
      "execution_count": 75,
      "outputs": []
    },
    {
      "cell_type": "code",
      "source": [
        "def transformar_lista_tuplas(graph):\n",
        "  edges = sc.parallelize(graph.edges)\n",
        "  nodes = sc.parallelize(graph.nodes)\n",
        "  grouped_edges_rdd = edges.groupByKey()\n",
        "  grouped_edges_dict = grouped_edges_rdd.collectAsMap()\n",
        "  lista_tuplas_rdd = nodes.map(lambda x: (x, list(grouped_edges_dict.get(x, []))))\n",
        "  lista_tuplas = lista_tuplas_rdd.collect()\n",
        "  return lista_tuplas"
      ],
      "metadata": {
        "id": "inS21S8NSF5o"
      },
      "execution_count": 76,
      "outputs": []
    },
    {
      "cell_type": "code",
      "source": [
        "lista_tuplas = transformar_lista_tuplas(G)\n",
        "cant_nodos = len(lista_tuplas)\n",
        "graph = sc.parallelize(lista_tuplas)\n",
        "initial_value = 1 / cant_nodos\n",
        "nodes = graph.keys().distinct()\n",
        "ranks = nodes.map(lambda node: (node, initial_value))"
      ],
      "metadata": {
        "id": "IfirulasR7yz"
      },
      "execution_count": 77,
      "outputs": []
    },
    {
      "cell_type": "code",
      "source": [
        "def generate_messages(node, rank):\n",
        "    num_neighbors = len(graph_dict[node])\n",
        "    if num_neighbors == 0:\n",
        "        return []\n",
        "    message_rank = rank / num_neighbors\n",
        "    return [(neighbor, message_rank) for neighbor in graph_dict[node]]\n",
        "\n",
        "messages = ranks.flatMap(lambda x: generate_messages(x[0], x[1]))\n",
        "graph_dict = dict(graph.collect())"
      ],
      "metadata": {
        "id": "cXTOqDzxSFLt"
      },
      "execution_count": 78,
      "outputs": []
    },
    {
      "cell_type": "code",
      "source": [
        "def update_rank(node, ranks):\n",
        "    damping_factor = 0.85\n",
        "    new_rank = damping_factor * ranks + (1 - damping_factor) / cant_nodos\n",
        "    return (node, new_rank)\n",
        "\n",
        "new_ranks = messages.reduceByKey(lambda x, y: x + y).map(lambda x: update_rank(x[0], x[1]))"
      ],
      "metadata": {
        "id": "PiqXA8PySDG7"
      },
      "execution_count": 79,
      "outputs": []
    },
    {
      "cell_type": "code",
      "source": [
        "max_iterations = 10\n",
        "epsilon = 0.001\n",
        "cant_iteraciones = 0\n",
        "for iteration in range(max_iterations):\n",
        "    messages = ranks.flatMap(lambda x: generate_messages(x[0], x[1]))\n",
        "    new_ranks = messages.reduceByKey(lambda x, y: x + y).map(lambda x: update_rank(x[0], x[1]))\n",
        "    rank_diff = ranks.join(new_ranks).map(lambda x: abs(x[1][0] - x[1][1])).sum()\n",
        "    ranks = new_ranks\n",
        "    cant_iteraciones+=1\n",
        "    if rank_diff < epsilon:\n",
        "        break"
      ],
      "metadata": {
        "id": "alcuEiejSGmM"
      },
      "execution_count": 80,
      "outputs": []
    },
    {
      "cell_type": "markdown",
      "source": [
        "#### Con la siguiente funcion se pueden ver cuales nodos son los que tienen mayor PageRank."
      ],
      "metadata": {
        "id": "W3r6NtYeUlZf"
      }
    },
    {
      "cell_type": "code",
      "source": [
        "# cant es la variable que se refiere a la cantidad de nodos que se quieren mostrar\n",
        "def top_pageranks(cant, ranks=ranks):\n",
        "  top = ranks.top(cant, key=lambda x: x[1])\n",
        "  return top"
      ],
      "metadata": {
        "id": "deJVfUB1TL9Q"
      },
      "execution_count": 83,
      "outputs": []
    },
    {
      "cell_type": "code",
      "source": [
        "top_pageranks(10)"
      ],
      "metadata": {
        "colab": {
          "base_uri": "https://localhost:8080/"
        },
        "id": "hDMx_ga9RhzW",
        "outputId": "d33548f2-dd82-48c7-a454-8563b4f70f12"
      },
      "execution_count": 84,
      "outputs": [
        {
          "output_type": "execute_result",
          "data": {
            "text/plain": [
              "[(15429, 0.006969569967219403),\n",
              " (10177, 0.006736096934060898),\n",
              " (35, 0.0027045376673630046),\n",
              " (6898, 0.002092012505474962),\n",
              " (643221, 0.0016660190498489556),\n",
              " (12631, 0.0015440014715572578),\n",
              " (5348, 0.0015308550234253812),\n",
              " (210871, 0.0014942063451139683),\n",
              " (2696, 0.001397585426094191),\n",
              " (10531, 0.0012931592765430262)]"
            ]
          },
          "metadata": {},
          "execution_count": 84
        }
      ]
    }
  ]
}